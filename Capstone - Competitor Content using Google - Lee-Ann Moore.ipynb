{
 "cells": [
  {
   "cell_type": "markdown",
   "id": "5eb01def",
   "metadata": {},
   "source": [
    "# Top Ranking Content Pages Using Python\n",
    "\n",
    "Scraping Google for the competitors' content and queries\n",
    "\n",
    "Source: https://medium.com/programminghero/spy-on-ranked-pages-in-google-search-for-your-search-term-using-python-897af08cdb22\n",
    "\n",
    "By Lee-Ann Moore"
   ]
  },
  {
   "cell_type": "code",
   "execution_count": 1,
   "id": "0980ce7e",
   "metadata": {},
   "outputs": [
    {
     "name": "stdout",
     "output_type": "stream",
     "text": [
      "Requirement already satisfied: google in c:\\python anaconda\\lib\\site-packages (3.0.0)\n",
      "Requirement already satisfied: beautifulsoup4 in c:\\python anaconda\\lib\\site-packages (from google) (4.9.3)\n",
      "Requirement already satisfied: soupsieve>1.2 in c:\\python anaconda\\lib\\site-packages (from beautifulsoup4->google) (2.2.1)\n"
     ]
    }
   ],
   "source": [
    "#Install Google \n",
    "!pip install google"
   ]
  },
  {
   "cell_type": "code",
   "execution_count": 2,
   "id": "27730eab",
   "metadata": {},
   "outputs": [],
   "source": [
    "#Import search from googlesearch and pandas\n",
    "from googlesearch import search\n",
    "import pandas as pd"
   ]
  },
  {
   "cell_type": "markdown",
   "id": "0591eade",
   "metadata": {},
   "source": [
    "# Investment Management Related Content"
   ]
  },
  {
   "cell_type": "code",
   "execution_count": 3,
   "id": "42f9c893",
   "metadata": {},
   "outputs": [],
   "source": [
    "#Using a from the related queries list create a variable called query1.\n",
    "query1 = \"what is investment management\"\n",
    "\n",
    "#Create an empty list for the list of urls that you will later append to get the search results.\n",
    "list_of_urls1 = []\n",
    "\n",
    "#Create an empty list for content ranking\n",
    "contentlist1 = []\n",
    "\n",
    "#Put the query string in the search function of the google search library and appended the results in the string by using a loop function. Here it will loop 5 times because of num=5 gving 5 results. \n",
    "for results in search(query1, tld=\"com\", lang=\"en\", num=5, stop=5, pause=2):\n",
    "    list_of_urls1.append(results)"
   ]
  },
  {
   "cell_type": "code",
   "execution_count": 4,
   "id": "76a5476e",
   "metadata": {},
   "outputs": [
    {
     "data": {
      "text/html": [
       "<div>\n",
       "<style scoped>\n",
       "    .dataframe tbody tr th:only-of-type {\n",
       "        vertical-align: middle;\n",
       "    }\n",
       "\n",
       "    .dataframe tbody tr th {\n",
       "        vertical-align: top;\n",
       "    }\n",
       "\n",
       "    .dataframe thead th {\n",
       "        text-align: right;\n",
       "    }\n",
       "</style>\n",
       "<table border=\"1\" class=\"dataframe\">\n",
       "  <thead>\n",
       "    <tr style=\"text-align: right;\">\n",
       "      <th></th>\n",
       "      <th>Query</th>\n",
       "      <th>Rank1</th>\n",
       "      <th>Rank2</th>\n",
       "      <th>Rank3</th>\n",
       "      <th>Rank4</th>\n",
       "      <th>Rank5</th>\n",
       "    </tr>\n",
       "  </thead>\n",
       "  <tbody>\n",
       "    <tr>\n",
       "      <th>0</th>\n",
       "      <td>what is investment management</td>\n",
       "      <td>https://www.investopedia.com/terms/i/investmen...</td>\n",
       "      <td>https://www.predictiveanalyticstoday.com/what-...</td>\n",
       "      <td>https://en.wikipedia.org/wiki/Investment_manag...</td>\n",
       "      <td>https://www.nerdwallet.com/article/investing/w...</td>\n",
       "      <td>https://www.brightnetwork.co.uk/career-path-gu...</td>\n",
       "    </tr>\n",
       "  </tbody>\n",
       "</table>\n",
       "</div>"
      ],
      "text/plain": [
       "                           Query  \\\n",
       "0  what is investment management   \n",
       "\n",
       "                                               Rank1  \\\n",
       "0  https://www.investopedia.com/terms/i/investmen...   \n",
       "\n",
       "                                               Rank2  \\\n",
       "0  https://www.predictiveanalyticstoday.com/what-...   \n",
       "\n",
       "                                               Rank3  \\\n",
       "0  https://en.wikipedia.org/wiki/Investment_manag...   \n",
       "\n",
       "                                               Rank4  \\\n",
       "0  https://www.nerdwallet.com/article/investing/w...   \n",
       "\n",
       "                                               Rank5  \n",
       "0  https://www.brightnetwork.co.uk/career-path-gu...  "
      ]
     },
     "execution_count": 4,
     "metadata": {},
     "output_type": "execute_result"
    }
   ],
   "source": [
    "#Add the query as the first item of the list_of_urls and a nested list of content list.\n",
    "list_of_urls1.insert(0,query1)\n",
    "contentlist1 = [list_of_urls1]\n",
    "content1 = pd.DataFrame(contentlist1, columns = ['Query','Rank1','Rank2','Rank3','Rank4','Rank5'])\n",
    "content1"
   ]
  },
  {
   "cell_type": "markdown",
   "id": "8e4f5bae",
   "metadata": {},
   "source": [
    "# Personal Finance Related Content"
   ]
  },
  {
   "cell_type": "code",
   "execution_count": 5,
   "id": "ef14953c",
   "metadata": {},
   "outputs": [],
   "source": [
    "#Using a from the related queries list create a variable called query2.\n",
    "query2 = \"personal finance software\"\n",
    "\n",
    "#Create an empty list for the list of urls that you will later append to get the search results.\n",
    "list_of_urls2 = []\n",
    "\n",
    "#Create an empty list for content ranking\n",
    "contentlist2 = []\n",
    "\n",
    "#Put the query string in the search function of the google search library and appended the results in the string by using a loop function. Here it will loop 5 times because of num=5 gving 5 results. \n",
    "for results in search(query2, tld=\"com\", lang=\"en\", num=5, stop=5, pause=2):\n",
    "    list_of_urls2.append(results)"
   ]
  },
  {
   "cell_type": "code",
   "execution_count": 6,
   "id": "bde03e6c",
   "metadata": {},
   "outputs": [
    {
     "data": {
      "text/html": [
       "<div>\n",
       "<style scoped>\n",
       "    .dataframe tbody tr th:only-of-type {\n",
       "        vertical-align: middle;\n",
       "    }\n",
       "\n",
       "    .dataframe tbody tr th {\n",
       "        vertical-align: top;\n",
       "    }\n",
       "\n",
       "    .dataframe thead th {\n",
       "        text-align: right;\n",
       "    }\n",
       "</style>\n",
       "<table border=\"1\" class=\"dataframe\">\n",
       "  <thead>\n",
       "    <tr style=\"text-align: right;\">\n",
       "      <th></th>\n",
       "      <th>Query</th>\n",
       "      <th>Rank1</th>\n",
       "      <th>Rank2</th>\n",
       "      <th>Rank3</th>\n",
       "      <th>Rank4</th>\n",
       "      <th>Rank5</th>\n",
       "    </tr>\n",
       "  </thead>\n",
       "  <tbody>\n",
       "    <tr>\n",
       "      <th>0</th>\n",
       "      <td>personal finance software</td>\n",
       "      <td>https://www.thebalance.com/best-personal-finan...</td>\n",
       "      <td>https://www.thebalance.com/top-8-free-personal...</td>\n",
       "      <td>https://www.thebalance.com/best-personal-finan...</td>\n",
       "      <td>https://www.thebalance.com/best-expense-tracke...</td>\n",
       "      <td>https://www.thebalance.com/ynab-vs-mint-5095744</td>\n",
       "    </tr>\n",
       "  </tbody>\n",
       "</table>\n",
       "</div>"
      ],
      "text/plain": [
       "                       Query  \\\n",
       "0  personal finance software   \n",
       "\n",
       "                                               Rank1  \\\n",
       "0  https://www.thebalance.com/best-personal-finan...   \n",
       "\n",
       "                                               Rank2  \\\n",
       "0  https://www.thebalance.com/top-8-free-personal...   \n",
       "\n",
       "                                               Rank3  \\\n",
       "0  https://www.thebalance.com/best-personal-finan...   \n",
       "\n",
       "                                               Rank4  \\\n",
       "0  https://www.thebalance.com/best-expense-tracke...   \n",
       "\n",
       "                                             Rank5  \n",
       "0  https://www.thebalance.com/ynab-vs-mint-5095744  "
      ]
     },
     "execution_count": 6,
     "metadata": {},
     "output_type": "execute_result"
    }
   ],
   "source": [
    "#Add the query as the first item of the list_of_urls and a nested list of content list.\n",
    "list_of_urls2.insert(0,query2)\n",
    "contentlist2 = [list_of_urls2]\n",
    "content2 = pd.DataFrame(contentlist2, columns = ['Query','Rank1','Rank2','Rank3','Rank4','Rank5'])\n",
    "content2"
   ]
  },
  {
   "cell_type": "markdown",
   "id": "8e419596",
   "metadata": {},
   "source": [
    "# Virtual Cards Related Content"
   ]
  },
  {
   "cell_type": "code",
   "execution_count": 7,
   "id": "e8d899d7",
   "metadata": {},
   "outputs": [],
   "source": [
    "#Using a from the related queries list create a variable called query3.\n",
    "query3 = \"virtual credit cards\"\n",
    "\n",
    "#Create an empty list for the list of urls that you will later append to get the search results.\n",
    "list_of_urls3 = []\n",
    "\n",
    "#Create an empty list for content ranking\n",
    "contentlist3 = []\n",
    "\n",
    "#Put the query string in the search function of the google search library and appended the results in the string by using a loop function. Here it will loop 5 times because of num=5 gving 5 results. \n",
    "for results in search(query3, tld=\"com\", lang=\"en\", num=5, stop=5, pause=2):\n",
    "    list_of_urls3.append(results)\n"
   ]
  },
  {
   "cell_type": "code",
   "execution_count": 8,
   "id": "0177a223",
   "metadata": {},
   "outputs": [
    {
     "data": {
      "text/html": [
       "<div>\n",
       "<style scoped>\n",
       "    .dataframe tbody tr th:only-of-type {\n",
       "        vertical-align: middle;\n",
       "    }\n",
       "\n",
       "    .dataframe tbody tr th {\n",
       "        vertical-align: top;\n",
       "    }\n",
       "\n",
       "    .dataframe thead th {\n",
       "        text-align: right;\n",
       "    }\n",
       "</style>\n",
       "<table border=\"1\" class=\"dataframe\">\n",
       "  <thead>\n",
       "    <tr style=\"text-align: right;\">\n",
       "      <th></th>\n",
       "      <th>Query</th>\n",
       "      <th>Rank1</th>\n",
       "      <th>Rank2</th>\n",
       "      <th>Rank3</th>\n",
       "      <th>Rank4</th>\n",
       "      <th>Rank5</th>\n",
       "    </tr>\n",
       "  </thead>\n",
       "  <tbody>\n",
       "    <tr>\n",
       "      <th>0</th>\n",
       "      <td>virtual credit cards</td>\n",
       "      <td>https://www.cnet.com/personal-finance/credit-c...</td>\n",
       "      <td>https://www.creditkarma.com/credit-cards/i/vir...</td>\n",
       "      <td>https://stripe.com/issuing</td>\n",
       "      <td>https://privacy.com/virtual-card</td>\n",
       "      <td>https://wallethub.com/edu/cc/virtual-credit-ca...</td>\n",
       "    </tr>\n",
       "  </tbody>\n",
       "</table>\n",
       "</div>"
      ],
      "text/plain": [
       "                  Query                                              Rank1  \\\n",
       "0  virtual credit cards  https://www.cnet.com/personal-finance/credit-c...   \n",
       "\n",
       "                                               Rank2  \\\n",
       "0  https://www.creditkarma.com/credit-cards/i/vir...   \n",
       "\n",
       "                        Rank3                             Rank4  \\\n",
       "0  https://stripe.com/issuing  https://privacy.com/virtual-card   \n",
       "\n",
       "                                               Rank5  \n",
       "0  https://wallethub.com/edu/cc/virtual-credit-ca...  "
      ]
     },
     "execution_count": 8,
     "metadata": {},
     "output_type": "execute_result"
    }
   ],
   "source": [
    "#Add the query as the first item of the list_of_urls and a nested list of content list.\n",
    "list_of_urls3.insert(0,query3)\n",
    "contentlist3 = [list_of_urls3]\n",
    "content3 = pd.DataFrame(contentlist3, columns = ['Query','Rank1','Rank2','Rank3','Rank4','Rank5'])\n",
    "content3"
   ]
  },
  {
   "cell_type": "markdown",
   "id": "cd5d316f",
   "metadata": {},
   "source": [
    "# Digital Wallet Related Content"
   ]
  },
  {
   "cell_type": "code",
   "execution_count": 9,
   "id": "b8a66b3d",
   "metadata": {},
   "outputs": [],
   "source": [
    "#Using a from the related queries list create a variable called query4.\n",
    "query4 = \"digital wallet crypto\"\n",
    "\n",
    "#Create an empty list for the list of urls that you will later append to get the search results.\n",
    "list_of_urls4 = []\n",
    "\n",
    "#Create an empty list for content ranking\n",
    "contentlist4 = []\n",
    "\n",
    "#Put the query string in the search function of the google search library and appended the results in the string by using a loop function. Here it will loop 5 times because of num=5 gving 5 results. \n",
    "for results in search(query4, tld=\"com\", lang=\"en\", num=5, stop=5, pause=2):\n",
    "    list_of_urls4.append(results)"
   ]
  },
  {
   "cell_type": "code",
   "execution_count": 10,
   "id": "99e2761f",
   "metadata": {},
   "outputs": [
    {
     "data": {
      "text/html": [
       "<div>\n",
       "<style scoped>\n",
       "    .dataframe tbody tr th:only-of-type {\n",
       "        vertical-align: middle;\n",
       "    }\n",
       "\n",
       "    .dataframe tbody tr th {\n",
       "        vertical-align: top;\n",
       "    }\n",
       "\n",
       "    .dataframe thead th {\n",
       "        text-align: right;\n",
       "    }\n",
       "</style>\n",
       "<table border=\"1\" class=\"dataframe\">\n",
       "  <thead>\n",
       "    <tr style=\"text-align: right;\">\n",
       "      <th></th>\n",
       "      <th>Query</th>\n",
       "      <th>Rank1</th>\n",
       "      <th>Rank2</th>\n",
       "      <th>Rank3</th>\n",
       "      <th>Rank4</th>\n",
       "      <th>Rank5</th>\n",
       "    </tr>\n",
       "  </thead>\n",
       "  <tbody>\n",
       "    <tr>\n",
       "      <th>0</th>\n",
       "      <td>digital wallet crypto</td>\n",
       "      <td>https://www.cnet.com/personal-finance/crypto/t...</td>\n",
       "      <td>https://www.coinbase.com/learn/crypto-basics/w...</td>\n",
       "      <td>https://money.com/best-crypto-wallets/</td>\n",
       "      <td>https://www.investopedia.com/best-bitcoin-wall...</td>\n",
       "      <td>https://www.investopedia.com/best-bitcoin-wall...</td>\n",
       "    </tr>\n",
       "  </tbody>\n",
       "</table>\n",
       "</div>"
      ],
      "text/plain": [
       "                   Query                                              Rank1  \\\n",
       "0  digital wallet crypto  https://www.cnet.com/personal-finance/crypto/t...   \n",
       "\n",
       "                                               Rank2  \\\n",
       "0  https://www.coinbase.com/learn/crypto-basics/w...   \n",
       "\n",
       "                                    Rank3  \\\n",
       "0  https://money.com/best-crypto-wallets/   \n",
       "\n",
       "                                               Rank4  \\\n",
       "0  https://www.investopedia.com/best-bitcoin-wall...   \n",
       "\n",
       "                                               Rank5  \n",
       "0  https://www.investopedia.com/best-bitcoin-wall...  "
      ]
     },
     "execution_count": 10,
     "metadata": {},
     "output_type": "execute_result"
    }
   ],
   "source": [
    "#Add the query as the first item of the list_of_urls and a nested list of content list.\n",
    "list_of_urls4.insert(0,query4)\n",
    "contentlist4 = [list_of_urls4]\n",
    "content4 = pd.DataFrame(contentlist4, columns = ['Query','Rank1','Rank2','Rank3','Rank4','Rank5'])\n",
    "content4"
   ]
  },
  {
   "cell_type": "markdown",
   "id": "21f09d8b",
   "metadata": {},
   "source": [
    "# Financial Planning Related Content"
   ]
  },
  {
   "cell_type": "code",
   "execution_count": 11,
   "id": "00439b9e",
   "metadata": {},
   "outputs": [],
   "source": [
    "#Using a from the related queries list create a variable called query5.\n",
    "query5 = \"retirement financial planning\"\n",
    "\n",
    "#Create an empty list for the list of urls that you will later append to get the search results.\n",
    "list_of_urls5 = []\n",
    "\n",
    "#Create an empty list for content ranking\n",
    "contentlist5 = []\n",
    "\n",
    "#Put the query string in the search function of the google search library and appended the results in the string by using a loop function. Here it will loop 5 times because of num=5 gving 5 results. \n",
    "for results in search(query5, tld=\"com\", lang=\"en\", num=5, stop=5, pause=2):\n",
    "    list_of_urls5.append(results)"
   ]
  },
  {
   "cell_type": "code",
   "execution_count": 12,
   "id": "fd95c47d",
   "metadata": {},
   "outputs": [
    {
     "data": {
      "text/html": [
       "<div>\n",
       "<style scoped>\n",
       "    .dataframe tbody tr th:only-of-type {\n",
       "        vertical-align: middle;\n",
       "    }\n",
       "\n",
       "    .dataframe tbody tr th {\n",
       "        vertical-align: top;\n",
       "    }\n",
       "\n",
       "    .dataframe thead th {\n",
       "        text-align: right;\n",
       "    }\n",
       "</style>\n",
       "<table border=\"1\" class=\"dataframe\">\n",
       "  <thead>\n",
       "    <tr style=\"text-align: right;\">\n",
       "      <th></th>\n",
       "      <th>Query</th>\n",
       "      <th>Rank1</th>\n",
       "      <th>Rank2</th>\n",
       "      <th>Rank3</th>\n",
       "      <th>Rank4</th>\n",
       "      <th>Rank5</th>\n",
       "    </tr>\n",
       "  </thead>\n",
       "  <tbody>\n",
       "    <tr>\n",
       "      <th>0</th>\n",
       "      <td>retirement financial planning</td>\n",
       "      <td>https://www.investopedia.com/articles/retireme...</td>\n",
       "      <td>https://www.investopedia.com/articles/retireme...</td>\n",
       "      <td>https://www.investopedia.com/articles/retireme...</td>\n",
       "      <td>https://www.dol.gov/sites/dolgov/files/ebsa/ab...</td>\n",
       "      <td>https://www.nerdwallet.com/article/investing/r...</td>\n",
       "    </tr>\n",
       "  </tbody>\n",
       "</table>\n",
       "</div>"
      ],
      "text/plain": [
       "                           Query  \\\n",
       "0  retirement financial planning   \n",
       "\n",
       "                                               Rank1  \\\n",
       "0  https://www.investopedia.com/articles/retireme...   \n",
       "\n",
       "                                               Rank2  \\\n",
       "0  https://www.investopedia.com/articles/retireme...   \n",
       "\n",
       "                                               Rank3  \\\n",
       "0  https://www.investopedia.com/articles/retireme...   \n",
       "\n",
       "                                               Rank4  \\\n",
       "0  https://www.dol.gov/sites/dolgov/files/ebsa/ab...   \n",
       "\n",
       "                                               Rank5  \n",
       "0  https://www.nerdwallet.com/article/investing/r...  "
      ]
     },
     "execution_count": 12,
     "metadata": {},
     "output_type": "execute_result"
    }
   ],
   "source": [
    "#Add the query as the first item of the list_of_urls and a nested list of content list.\n",
    "list_of_urls5.insert(0,query5)\n",
    "contentlist5 = [list_of_urls5]\n",
    "content5 = pd.DataFrame(contentlist5, columns = ['Query','Rank1','Rank2','Rank3','Rank4','Rank5'])\n",
    "content5"
   ]
  },
  {
   "cell_type": "markdown",
   "id": "323a154d",
   "metadata": {},
   "source": [
    "# Merge Data Frames Together"
   ]
  },
  {
   "cell_type": "code",
   "execution_count": 13,
   "id": "24cf530f",
   "metadata": {
    "scrolled": true
   },
   "outputs": [
    {
     "data": {
      "text/html": [
       "<div>\n",
       "<style scoped>\n",
       "    .dataframe tbody tr th:only-of-type {\n",
       "        vertical-align: middle;\n",
       "    }\n",
       "\n",
       "    .dataframe tbody tr th {\n",
       "        vertical-align: top;\n",
       "    }\n",
       "\n",
       "    .dataframe thead th {\n",
       "        text-align: right;\n",
       "    }\n",
       "</style>\n",
       "<table border=\"1\" class=\"dataframe\">\n",
       "  <thead>\n",
       "    <tr style=\"text-align: right;\">\n",
       "      <th></th>\n",
       "      <th>Query</th>\n",
       "      <th>Rank1</th>\n",
       "      <th>Rank2</th>\n",
       "      <th>Rank3</th>\n",
       "      <th>Rank4</th>\n",
       "      <th>Rank5</th>\n",
       "    </tr>\n",
       "  </thead>\n",
       "  <tbody>\n",
       "    <tr>\n",
       "      <th>0</th>\n",
       "      <td>what is investment management</td>\n",
       "      <td>https://www.investopedia.com/terms/i/investmen...</td>\n",
       "      <td>https://www.predictiveanalyticstoday.com/what-...</td>\n",
       "      <td>https://en.wikipedia.org/wiki/Investment_manag...</td>\n",
       "      <td>https://www.nerdwallet.com/article/investing/w...</td>\n",
       "      <td>https://www.brightnetwork.co.uk/career-path-gu...</td>\n",
       "    </tr>\n",
       "    <tr>\n",
       "      <th>0</th>\n",
       "      <td>personal finance software</td>\n",
       "      <td>https://www.thebalance.com/best-personal-finan...</td>\n",
       "      <td>https://www.thebalance.com/top-8-free-personal...</td>\n",
       "      <td>https://www.thebalance.com/best-personal-finan...</td>\n",
       "      <td>https://www.thebalance.com/best-expense-tracke...</td>\n",
       "      <td>https://www.thebalance.com/ynab-vs-mint-5095744</td>\n",
       "    </tr>\n",
       "    <tr>\n",
       "      <th>0</th>\n",
       "      <td>virtual credit cards</td>\n",
       "      <td>https://www.cnet.com/personal-finance/credit-c...</td>\n",
       "      <td>https://www.creditkarma.com/credit-cards/i/vir...</td>\n",
       "      <td>https://stripe.com/issuing</td>\n",
       "      <td>https://privacy.com/virtual-card</td>\n",
       "      <td>https://wallethub.com/edu/cc/virtual-credit-ca...</td>\n",
       "    </tr>\n",
       "    <tr>\n",
       "      <th>0</th>\n",
       "      <td>digital wallet crypto</td>\n",
       "      <td>https://www.cnet.com/personal-finance/crypto/t...</td>\n",
       "      <td>https://www.coinbase.com/learn/crypto-basics/w...</td>\n",
       "      <td>https://money.com/best-crypto-wallets/</td>\n",
       "      <td>https://www.investopedia.com/best-bitcoin-wall...</td>\n",
       "      <td>https://www.investopedia.com/best-bitcoin-wall...</td>\n",
       "    </tr>\n",
       "    <tr>\n",
       "      <th>0</th>\n",
       "      <td>retirement financial planning</td>\n",
       "      <td>https://www.investopedia.com/articles/retireme...</td>\n",
       "      <td>https://www.investopedia.com/articles/retireme...</td>\n",
       "      <td>https://www.investopedia.com/articles/retireme...</td>\n",
       "      <td>https://www.dol.gov/sites/dolgov/files/ebsa/ab...</td>\n",
       "      <td>https://www.nerdwallet.com/article/investing/r...</td>\n",
       "    </tr>\n",
       "  </tbody>\n",
       "</table>\n",
       "</div>"
      ],
      "text/plain": [
       "                           Query  \\\n",
       "0  what is investment management   \n",
       "0      personal finance software   \n",
       "0           virtual credit cards   \n",
       "0          digital wallet crypto   \n",
       "0  retirement financial planning   \n",
       "\n",
       "                                               Rank1  \\\n",
       "0  https://www.investopedia.com/terms/i/investmen...   \n",
       "0  https://www.thebalance.com/best-personal-finan...   \n",
       "0  https://www.cnet.com/personal-finance/credit-c...   \n",
       "0  https://www.cnet.com/personal-finance/crypto/t...   \n",
       "0  https://www.investopedia.com/articles/retireme...   \n",
       "\n",
       "                                               Rank2  \\\n",
       "0  https://www.predictiveanalyticstoday.com/what-...   \n",
       "0  https://www.thebalance.com/top-8-free-personal...   \n",
       "0  https://www.creditkarma.com/credit-cards/i/vir...   \n",
       "0  https://www.coinbase.com/learn/crypto-basics/w...   \n",
       "0  https://www.investopedia.com/articles/retireme...   \n",
       "\n",
       "                                               Rank3  \\\n",
       "0  https://en.wikipedia.org/wiki/Investment_manag...   \n",
       "0  https://www.thebalance.com/best-personal-finan...   \n",
       "0                         https://stripe.com/issuing   \n",
       "0             https://money.com/best-crypto-wallets/   \n",
       "0  https://www.investopedia.com/articles/retireme...   \n",
       "\n",
       "                                               Rank4  \\\n",
       "0  https://www.nerdwallet.com/article/investing/w...   \n",
       "0  https://www.thebalance.com/best-expense-tracke...   \n",
       "0                   https://privacy.com/virtual-card   \n",
       "0  https://www.investopedia.com/best-bitcoin-wall...   \n",
       "0  https://www.dol.gov/sites/dolgov/files/ebsa/ab...   \n",
       "\n",
       "                                               Rank5  \n",
       "0  https://www.brightnetwork.co.uk/career-path-gu...  \n",
       "0    https://www.thebalance.com/ynab-vs-mint-5095744  \n",
       "0  https://wallethub.com/edu/cc/virtual-credit-ca...  \n",
       "0  https://www.investopedia.com/best-bitcoin-wall...  \n",
       "0  https://www.nerdwallet.com/article/investing/r...  "
      ]
     },
     "execution_count": 13,
     "metadata": {},
     "output_type": "execute_result"
    }
   ],
   "source": [
    "#Merge the data by the rows on the keyword column using the pd.concat() function\n",
    "merged_content = pd.concat([content1, content2, content3, content4, content5], axis=0)\n",
    "merged_content"
   ]
  },
  {
   "cell_type": "markdown",
   "id": "99f861ca",
   "metadata": {},
   "source": [
    "# Creating An Excel Sheet for Top Ranking Content Pages\n"
   ]
  },
  {
   "cell_type": "code",
   "execution_count": 14,
   "id": "84114030",
   "metadata": {},
   "outputs": [],
   "source": [
    "# Import xlwt, ExcelWriter, and xlsxwriter to turn dataframes into excel files for Tableau portion of the capstone\n",
    "import xlwt\n",
    "from xlwt.Workbook import *\n",
    "from pandas import ExcelWriter\n",
    "import xlsxwriter"
   ]
  },
  {
   "cell_type": "code",
   "execution_count": 15,
   "id": "01bc7819",
   "metadata": {},
   "outputs": [],
   "source": [
    "# Create an excel sheet for merged_content and call it 'Top Ranking Content'\n",
    "writer = pd.ExcelWriter('Top Ranking Content.xlsx', engine='xlsxwriter')\n",
    "\n",
    "merged_content.to_excel(writer, sheet_name='Content')\n",
    "\n",
    "writer.save()"
   ]
  },
  {
   "cell_type": "code",
   "execution_count": null,
   "id": "d58b83a9",
   "metadata": {},
   "outputs": [],
   "source": []
  }
 ],
 "metadata": {
  "kernelspec": {
   "display_name": "Python 3",
   "language": "python",
   "name": "python3"
  },
  "language_info": {
   "codemirror_mode": {
    "name": "ipython",
    "version": 3
   },
   "file_extension": ".py",
   "mimetype": "text/x-python",
   "name": "python",
   "nbconvert_exporter": "python",
   "pygments_lexer": "ipython3",
   "version": "3.8.8"
  }
 },
 "nbformat": 4,
 "nbformat_minor": 5
}
